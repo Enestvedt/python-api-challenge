{
 "cells": [
  {
   "cell_type": "markdown",
   "metadata": {},
   "source": [
    "# VacationPy\n",
    "----\n",
    "\n",
    "#### Note\n",
    "* Keep an eye on your API usage. Use https://developers.google.com/maps/reporting/gmp-reporting as reference for how to monitor your usage and billing.\n",
    "\n",
    "* Instructions have been included for each segment. You do not have to follow them exactly, but they are included to help you think through the steps."
   ]
  },
  {
   "cell_type": "code",
   "execution_count": 54,
   "metadata": {},
   "outputs": [],
   "source": [
    "# Dependencies and Setup\n",
    "import matplotlib.pyplot as plt\n",
    "import pandas as pd\n",
    "import numpy as np\n",
    "import requests\n",
    "import gmaps\n",
    "import os\n",
    "from pprint import pprint\n",
    "\n",
    "# Import API key\n",
    "from config import g_key"
   ]
  },
  {
   "cell_type": "markdown",
   "metadata": {},
   "source": [
    "### Store Part I results into DataFrame\n",
    "* Load the csv exported in Part I to a DataFrame"
   ]
  },
  {
   "cell_type": "code",
   "execution_count": 44,
   "metadata": {},
   "outputs": [
    {
     "output_type": "execute_result",
     "data": {
      "text/plain": [
       "                 city_name country_code   latitude   longitude  Max Temp  \\\n",
       "0           gornopravdinsk           ru  60.050000   69.900000     34.41   \n",
       "1                 thompson           ca  55.750000  -97.866667     42.80   \n",
       "2              yellowknife           ca  62.450000 -114.350000     33.01   \n",
       "3                  rikitea           pf -23.120278 -134.969167     78.87   \n",
       "4            palabuhanratu           id  -6.987500  106.551389     80.01   \n",
       "..                     ...          ...        ...         ...       ...   \n",
       "495                paamiut           gl  62.000000  -49.750000     37.33   \n",
       "496                  wamba           cd   2.150000   28.000000     68.41   \n",
       "497              ust-kuyga           ru  70.016667  135.600000     29.68   \n",
       "498  monte alegre de minas           br -18.866667  -48.866667     75.20   \n",
       "499                 bereda           so  11.850000   51.050000     81.63   \n",
       "\n",
       "     Humidity  Cloudiness  Wind Speed        Date  \n",
       "0          96         100       10.22  1619812302  \n",
       "1          33          90        6.91  1619812302  \n",
       "2          93          90       11.50  1619812302  \n",
       "3          77          77       20.09  1619812303  \n",
       "4          94          47        2.73  1619812303  \n",
       "..        ...         ...         ...         ...  \n",
       "495        85           0        6.82  1619812441  \n",
       "496        99         100        3.62  1619812442  \n",
       "497        91          98        3.04  1619812442  \n",
       "498        57          40       12.66  1619812443  \n",
       "499        77         100        8.84  1619812443  \n",
       "\n",
       "[500 rows x 9 columns]"
      ],
      "text/html": "<div>\n<style scoped>\n    .dataframe tbody tr th:only-of-type {\n        vertical-align: middle;\n    }\n\n    .dataframe tbody tr th {\n        vertical-align: top;\n    }\n\n    .dataframe thead th {\n        text-align: right;\n    }\n</style>\n<table border=\"1\" class=\"dataframe\">\n  <thead>\n    <tr style=\"text-align: right;\">\n      <th></th>\n      <th>city_name</th>\n      <th>country_code</th>\n      <th>latitude</th>\n      <th>longitude</th>\n      <th>Max Temp</th>\n      <th>Humidity</th>\n      <th>Cloudiness</th>\n      <th>Wind Speed</th>\n      <th>Date</th>\n    </tr>\n  </thead>\n  <tbody>\n    <tr>\n      <th>0</th>\n      <td>gornopravdinsk</td>\n      <td>ru</td>\n      <td>60.050000</td>\n      <td>69.900000</td>\n      <td>34.41</td>\n      <td>96</td>\n      <td>100</td>\n      <td>10.22</td>\n      <td>1619812302</td>\n    </tr>\n    <tr>\n      <th>1</th>\n      <td>thompson</td>\n      <td>ca</td>\n      <td>55.750000</td>\n      <td>-97.866667</td>\n      <td>42.80</td>\n      <td>33</td>\n      <td>90</td>\n      <td>6.91</td>\n      <td>1619812302</td>\n    </tr>\n    <tr>\n      <th>2</th>\n      <td>yellowknife</td>\n      <td>ca</td>\n      <td>62.450000</td>\n      <td>-114.350000</td>\n      <td>33.01</td>\n      <td>93</td>\n      <td>90</td>\n      <td>11.50</td>\n      <td>1619812302</td>\n    </tr>\n    <tr>\n      <th>3</th>\n      <td>rikitea</td>\n      <td>pf</td>\n      <td>-23.120278</td>\n      <td>-134.969167</td>\n      <td>78.87</td>\n      <td>77</td>\n      <td>77</td>\n      <td>20.09</td>\n      <td>1619812303</td>\n    </tr>\n    <tr>\n      <th>4</th>\n      <td>palabuhanratu</td>\n      <td>id</td>\n      <td>-6.987500</td>\n      <td>106.551389</td>\n      <td>80.01</td>\n      <td>94</td>\n      <td>47</td>\n      <td>2.73</td>\n      <td>1619812303</td>\n    </tr>\n    <tr>\n      <th>...</th>\n      <td>...</td>\n      <td>...</td>\n      <td>...</td>\n      <td>...</td>\n      <td>...</td>\n      <td>...</td>\n      <td>...</td>\n      <td>...</td>\n      <td>...</td>\n    </tr>\n    <tr>\n      <th>495</th>\n      <td>paamiut</td>\n      <td>gl</td>\n      <td>62.000000</td>\n      <td>-49.750000</td>\n      <td>37.33</td>\n      <td>85</td>\n      <td>0</td>\n      <td>6.82</td>\n      <td>1619812441</td>\n    </tr>\n    <tr>\n      <th>496</th>\n      <td>wamba</td>\n      <td>cd</td>\n      <td>2.150000</td>\n      <td>28.000000</td>\n      <td>68.41</td>\n      <td>99</td>\n      <td>100</td>\n      <td>3.62</td>\n      <td>1619812442</td>\n    </tr>\n    <tr>\n      <th>497</th>\n      <td>ust-kuyga</td>\n      <td>ru</td>\n      <td>70.016667</td>\n      <td>135.600000</td>\n      <td>29.68</td>\n      <td>91</td>\n      <td>98</td>\n      <td>3.04</td>\n      <td>1619812442</td>\n    </tr>\n    <tr>\n      <th>498</th>\n      <td>monte alegre de minas</td>\n      <td>br</td>\n      <td>-18.866667</td>\n      <td>-48.866667</td>\n      <td>75.20</td>\n      <td>57</td>\n      <td>40</td>\n      <td>12.66</td>\n      <td>1619812443</td>\n    </tr>\n    <tr>\n      <th>499</th>\n      <td>bereda</td>\n      <td>so</td>\n      <td>11.850000</td>\n      <td>51.050000</td>\n      <td>81.63</td>\n      <td>77</td>\n      <td>100</td>\n      <td>8.84</td>\n      <td>1619812443</td>\n    </tr>\n  </tbody>\n</table>\n<p>500 rows × 9 columns</p>\n</div>"
     },
     "metadata": {},
     "execution_count": 44
    }
   ],
   "source": [
    "csv_file = os.path.join(\"..\", \"output_data\", \"weather_data.csv\")\n",
    "weather_data = pd.read_csv(csv_file)\n",
    "weather_data = weather_data.drop(columns=['Unnamed: 0'])\n",
    "weather_data\n"
   ]
  },
  {
   "cell_type": "markdown",
   "metadata": {},
   "source": [
    "### Humidity Heatmap\n",
    "* Configure gmaps.\n",
    "* Use the Lat and Lng as locations and Humidity as the weight.\n",
    "* Add Heatmap layer to map."
   ]
  },
  {
   "cell_type": "code",
   "execution_count": 4,
   "metadata": {},
   "outputs": [],
   "source": [
    "gmaps.configure(api_key=g_key)"
   ]
  },
  {
   "cell_type": "code",
   "execution_count": 19,
   "metadata": {},
   "outputs": [],
   "source": [
    "# Store 'Lat' and 'Lng' into  locations \n",
    "locations = weather_data[[\"latitude\", \"longitude\"]]\n",
    "\n",
    "humidity = weather_data[\"Humidity\"]\n"
   ]
  },
  {
   "cell_type": "code",
   "execution_count": 9,
   "metadata": {},
   "outputs": [
    {
     "output_type": "display_data",
     "data": {
      "text/plain": "Figure(layout=FigureLayout(height='420px'))",
      "application/vnd.jupyter.widget-view+json": {
       "version_major": 2,
       "version_minor": 0,
       "model_id": "74f3d41a71c04a799f73eca9afd0156a"
      }
     },
     "metadata": {}
    }
   ],
   "source": [
    " # Create a poverty Heatmap layer\n",
    "fig = gmaps.figure()\n",
    "\n",
    "heat_layer = gmaps.heatmap_layer(locations, weights=humidity, \n",
    "                                 dissipating=False, max_intensity=100,\n",
    "                                 point_radius = 5)\n",
    "\n",
    "fig.add_layer(heat_layer)\n",
    "\n",
    "fig\n"
   ]
  },
  {
   "cell_type": "code",
   "execution_count": null,
   "metadata": {},
   "outputs": [],
   "source": []
  },
  {
   "cell_type": "markdown",
   "metadata": {},
   "source": [
    "### Create new DataFrame fitting weather criteria\n",
    "* Narrow down the cities to fit weather conditions.\n",
    "* Drop any rows will null values."
   ]
  },
  {
   "cell_type": "code",
   "execution_count": 45,
   "metadata": {},
   "outputs": [
    {
     "output_type": "execute_result",
     "data": {
      "text/plain": [
       "             city_name country_code   latitude   longitude  Max Temp  \\\n",
       "0          silver city           us  32.770000 -108.279722     70.00   \n",
       "1              kewanee           us  41.245556  -89.924722     66.00   \n",
       "2        florianopolis           br -27.583333  -48.566667     75.20   \n",
       "3       veliki crljeni           rs  44.467500   20.284444     68.00   \n",
       "4          bella union           uy -30.250000  -57.583333     75.99   \n",
       "5               pueblo           us  38.254444 -104.608611     79.00   \n",
       "6               laguna           br -28.483333  -48.783333     73.00   \n",
       "7             somerset           us  37.091944  -84.604167     71.60   \n",
       "8             marshall           us  44.446944  -95.788056     68.00   \n",
       "9                rolla           us  37.951389  -91.771111     77.00   \n",
       "10             karamay           cn  45.600376   84.860142     76.23   \n",
       "11            ashqelon           il  31.669256   34.571490     73.00   \n",
       "12          rockingham           us  34.939167  -79.774167     79.00   \n",
       "13              tarata           pe -17.474444  -70.032778     71.60   \n",
       "14            hereford           us  34.815000 -102.397222     75.20   \n",
       "15                enid           us  36.395556  -97.878056     77.00   \n",
       "16             liberal           us  37.043056 -100.920556     75.20   \n",
       "17               korla           cn  41.759722   86.146944     71.24   \n",
       "18            necochea           ar -38.547259  -58.736753     73.00   \n",
       "19             ardakan           ir  32.310011   54.017474     77.00   \n",
       "20              shache           cn  38.416667   77.240556     70.61   \n",
       "21            show low           us  34.254167 -110.029167     75.20   \n",
       "22  comodoro rivadavia           ar -45.864135  -67.496558     68.00   \n",
       "23          batesville           us  35.769722  -91.640833     78.01   \n",
       "24              cortez           us  37.348889 -108.585278     75.20   \n",
       "\n",
       "    Humidity  Cloudiness  Wind Speed        Date  \n",
       "0         21           1        5.75  1619812311  \n",
       "1         31           2        1.99  1619812313  \n",
       "2         57           0       11.50  1619812338  \n",
       "3         56           0        5.75  1619812348  \n",
       "4         41           0        7.65  1619812349  \n",
       "5         14           1        5.75  1619812355  \n",
       "6         57           0        1.01  1619812367  \n",
       "7         23           1       12.66  1619812372  \n",
       "8         20           1       12.66  1619812374  \n",
       "9         25           1        3.44  1619812376  \n",
       "10        17           4        5.26  1619812384  \n",
       "11        49           0        4.61  1619812389  \n",
       "12        27           1        9.22  1619812394  \n",
       "13        53           0        6.91  1619812400  \n",
       "14        19           1       11.50  1619812403  \n",
       "15        41           1        9.22  1619812406  \n",
       "16        19           1        5.75  1619812407  \n",
       "17        19           0        1.61  1619812410  \n",
       "18        46           0       13.00  1619812412  \n",
       "19        25           0        6.91  1619812382  \n",
       "20        13           0        7.27  1619812433  \n",
       "21        14           1        6.91  1619812433  \n",
       "22        45           0       10.36  1619812437  \n",
       "23        35           1        6.91  1619812438  \n",
       "24        16           1       10.36  1619812440  "
      ],
      "text/html": "<div>\n<style scoped>\n    .dataframe tbody tr th:only-of-type {\n        vertical-align: middle;\n    }\n\n    .dataframe tbody tr th {\n        vertical-align: top;\n    }\n\n    .dataframe thead th {\n        text-align: right;\n    }\n</style>\n<table border=\"1\" class=\"dataframe\">\n  <thead>\n    <tr style=\"text-align: right;\">\n      <th></th>\n      <th>city_name</th>\n      <th>country_code</th>\n      <th>latitude</th>\n      <th>longitude</th>\n      <th>Max Temp</th>\n      <th>Humidity</th>\n      <th>Cloudiness</th>\n      <th>Wind Speed</th>\n      <th>Date</th>\n    </tr>\n  </thead>\n  <tbody>\n    <tr>\n      <th>0</th>\n      <td>silver city</td>\n      <td>us</td>\n      <td>32.770000</td>\n      <td>-108.279722</td>\n      <td>70.00</td>\n      <td>21</td>\n      <td>1</td>\n      <td>5.75</td>\n      <td>1619812311</td>\n    </tr>\n    <tr>\n      <th>1</th>\n      <td>kewanee</td>\n      <td>us</td>\n      <td>41.245556</td>\n      <td>-89.924722</td>\n      <td>66.00</td>\n      <td>31</td>\n      <td>2</td>\n      <td>1.99</td>\n      <td>1619812313</td>\n    </tr>\n    <tr>\n      <th>2</th>\n      <td>florianopolis</td>\n      <td>br</td>\n      <td>-27.583333</td>\n      <td>-48.566667</td>\n      <td>75.20</td>\n      <td>57</td>\n      <td>0</td>\n      <td>11.50</td>\n      <td>1619812338</td>\n    </tr>\n    <tr>\n      <th>3</th>\n      <td>veliki crljeni</td>\n      <td>rs</td>\n      <td>44.467500</td>\n      <td>20.284444</td>\n      <td>68.00</td>\n      <td>56</td>\n      <td>0</td>\n      <td>5.75</td>\n      <td>1619812348</td>\n    </tr>\n    <tr>\n      <th>4</th>\n      <td>bella union</td>\n      <td>uy</td>\n      <td>-30.250000</td>\n      <td>-57.583333</td>\n      <td>75.99</td>\n      <td>41</td>\n      <td>0</td>\n      <td>7.65</td>\n      <td>1619812349</td>\n    </tr>\n    <tr>\n      <th>5</th>\n      <td>pueblo</td>\n      <td>us</td>\n      <td>38.254444</td>\n      <td>-104.608611</td>\n      <td>79.00</td>\n      <td>14</td>\n      <td>1</td>\n      <td>5.75</td>\n      <td>1619812355</td>\n    </tr>\n    <tr>\n      <th>6</th>\n      <td>laguna</td>\n      <td>br</td>\n      <td>-28.483333</td>\n      <td>-48.783333</td>\n      <td>73.00</td>\n      <td>57</td>\n      <td>0</td>\n      <td>1.01</td>\n      <td>1619812367</td>\n    </tr>\n    <tr>\n      <th>7</th>\n      <td>somerset</td>\n      <td>us</td>\n      <td>37.091944</td>\n      <td>-84.604167</td>\n      <td>71.60</td>\n      <td>23</td>\n      <td>1</td>\n      <td>12.66</td>\n      <td>1619812372</td>\n    </tr>\n    <tr>\n      <th>8</th>\n      <td>marshall</td>\n      <td>us</td>\n      <td>44.446944</td>\n      <td>-95.788056</td>\n      <td>68.00</td>\n      <td>20</td>\n      <td>1</td>\n      <td>12.66</td>\n      <td>1619812374</td>\n    </tr>\n    <tr>\n      <th>9</th>\n      <td>rolla</td>\n      <td>us</td>\n      <td>37.951389</td>\n      <td>-91.771111</td>\n      <td>77.00</td>\n      <td>25</td>\n      <td>1</td>\n      <td>3.44</td>\n      <td>1619812376</td>\n    </tr>\n    <tr>\n      <th>10</th>\n      <td>karamay</td>\n      <td>cn</td>\n      <td>45.600376</td>\n      <td>84.860142</td>\n      <td>76.23</td>\n      <td>17</td>\n      <td>4</td>\n      <td>5.26</td>\n      <td>1619812384</td>\n    </tr>\n    <tr>\n      <th>11</th>\n      <td>ashqelon</td>\n      <td>il</td>\n      <td>31.669256</td>\n      <td>34.571490</td>\n      <td>73.00</td>\n      <td>49</td>\n      <td>0</td>\n      <td>4.61</td>\n      <td>1619812389</td>\n    </tr>\n    <tr>\n      <th>12</th>\n      <td>rockingham</td>\n      <td>us</td>\n      <td>34.939167</td>\n      <td>-79.774167</td>\n      <td>79.00</td>\n      <td>27</td>\n      <td>1</td>\n      <td>9.22</td>\n      <td>1619812394</td>\n    </tr>\n    <tr>\n      <th>13</th>\n      <td>tarata</td>\n      <td>pe</td>\n      <td>-17.474444</td>\n      <td>-70.032778</td>\n      <td>71.60</td>\n      <td>53</td>\n      <td>0</td>\n      <td>6.91</td>\n      <td>1619812400</td>\n    </tr>\n    <tr>\n      <th>14</th>\n      <td>hereford</td>\n      <td>us</td>\n      <td>34.815000</td>\n      <td>-102.397222</td>\n      <td>75.20</td>\n      <td>19</td>\n      <td>1</td>\n      <td>11.50</td>\n      <td>1619812403</td>\n    </tr>\n    <tr>\n      <th>15</th>\n      <td>enid</td>\n      <td>us</td>\n      <td>36.395556</td>\n      <td>-97.878056</td>\n      <td>77.00</td>\n      <td>41</td>\n      <td>1</td>\n      <td>9.22</td>\n      <td>1619812406</td>\n    </tr>\n    <tr>\n      <th>16</th>\n      <td>liberal</td>\n      <td>us</td>\n      <td>37.043056</td>\n      <td>-100.920556</td>\n      <td>75.20</td>\n      <td>19</td>\n      <td>1</td>\n      <td>5.75</td>\n      <td>1619812407</td>\n    </tr>\n    <tr>\n      <th>17</th>\n      <td>korla</td>\n      <td>cn</td>\n      <td>41.759722</td>\n      <td>86.146944</td>\n      <td>71.24</td>\n      <td>19</td>\n      <td>0</td>\n      <td>1.61</td>\n      <td>1619812410</td>\n    </tr>\n    <tr>\n      <th>18</th>\n      <td>necochea</td>\n      <td>ar</td>\n      <td>-38.547259</td>\n      <td>-58.736753</td>\n      <td>73.00</td>\n      <td>46</td>\n      <td>0</td>\n      <td>13.00</td>\n      <td>1619812412</td>\n    </tr>\n    <tr>\n      <th>19</th>\n      <td>ardakan</td>\n      <td>ir</td>\n      <td>32.310011</td>\n      <td>54.017474</td>\n      <td>77.00</td>\n      <td>25</td>\n      <td>0</td>\n      <td>6.91</td>\n      <td>1619812382</td>\n    </tr>\n    <tr>\n      <th>20</th>\n      <td>shache</td>\n      <td>cn</td>\n      <td>38.416667</td>\n      <td>77.240556</td>\n      <td>70.61</td>\n      <td>13</td>\n      <td>0</td>\n      <td>7.27</td>\n      <td>1619812433</td>\n    </tr>\n    <tr>\n      <th>21</th>\n      <td>show low</td>\n      <td>us</td>\n      <td>34.254167</td>\n      <td>-110.029167</td>\n      <td>75.20</td>\n      <td>14</td>\n      <td>1</td>\n      <td>6.91</td>\n      <td>1619812433</td>\n    </tr>\n    <tr>\n      <th>22</th>\n      <td>comodoro rivadavia</td>\n      <td>ar</td>\n      <td>-45.864135</td>\n      <td>-67.496558</td>\n      <td>68.00</td>\n      <td>45</td>\n      <td>0</td>\n      <td>10.36</td>\n      <td>1619812437</td>\n    </tr>\n    <tr>\n      <th>23</th>\n      <td>batesville</td>\n      <td>us</td>\n      <td>35.769722</td>\n      <td>-91.640833</td>\n      <td>78.01</td>\n      <td>35</td>\n      <td>1</td>\n      <td>6.91</td>\n      <td>1619812438</td>\n    </tr>\n    <tr>\n      <th>24</th>\n      <td>cortez</td>\n      <td>us</td>\n      <td>37.348889</td>\n      <td>-108.585278</td>\n      <td>75.20</td>\n      <td>16</td>\n      <td>1</td>\n      <td>10.36</td>\n      <td>1619812440</td>\n    </tr>\n  </tbody>\n</table>\n</div>"
     },
     "metadata": {},
     "execution_count": 45
    }
   ],
   "source": [
    "filt = {'Max Temp': 80, 'Min Temp': 65, 'Humidity': 60, 'Wind Speed': 15, 'Cloudiness': 15}\n",
    "\n",
    "hotel_df = weather_data[(weather_data['Max Temp'] < filt['Max Temp']) & (weather_data['Max Temp'] > filt['Min Temp']) & (weather_data['Humidity'] < filt['Humidity']) & (weather_data['Wind Speed'] < filt['Wind Speed']) & (weather_data['Cloudiness'] < filt['Cloudiness'])]\n",
    "\n",
    "hotel_df = pd.DataFrame(hotel_df)\n",
    "hotel_df = hotel_df.reset_index(drop=True)\n",
    "hotel_df"
   ]
  },
  {
   "cell_type": "markdown",
   "metadata": {},
   "source": [
    "### Hotel Map\n",
    "* Store into variable named `hotel_df`.\n",
    "* Add a \"Hotel Name\" column to the DataFrame.\n",
    "* Set parameters to search for hotels with 5000 meters.\n",
    "* Hit the Google Places API for each city's coordinates.\n",
    "* Store the first Hotel result into the DataFrame.\n",
    "* Plot markers on top of the heatmap."
   ]
  },
  {
   "cell_type": "code",
   "execution_count": 60,
   "metadata": {},
   "outputs": [
    {
     "output_type": "execute_result",
     "data": {
      "text/plain": [
       "             city_name country_code   latitude   longitude  Max Temp  \\\n",
       "0          silver city           us  32.770000 -108.279722     70.00   \n",
       "1              kewanee           us  41.245556  -89.924722     66.00   \n",
       "2        florianopolis           br -27.583333  -48.566667     75.20   \n",
       "3       veliki crljeni           rs  44.467500   20.284444     68.00   \n",
       "4          bella union           uy -30.250000  -57.583333     75.99   \n",
       "5               pueblo           us  38.254444 -104.608611     79.00   \n",
       "6               laguna           br -28.483333  -48.783333     73.00   \n",
       "7             somerset           us  37.091944  -84.604167     71.60   \n",
       "8             marshall           us  44.446944  -95.788056     68.00   \n",
       "9                rolla           us  37.951389  -91.771111     77.00   \n",
       "10             karamay           cn  45.600376   84.860142     76.23   \n",
       "11            ashqelon           il  31.669256   34.571490     73.00   \n",
       "12          rockingham           us  34.939167  -79.774167     79.00   \n",
       "13              tarata           pe -17.474444  -70.032778     71.60   \n",
       "14            hereford           us  34.815000 -102.397222     75.20   \n",
       "15                enid           us  36.395556  -97.878056     77.00   \n",
       "16             liberal           us  37.043056 -100.920556     75.20   \n",
       "17               korla           cn  41.759722   86.146944     71.24   \n",
       "18            necochea           ar -38.547259  -58.736753     73.00   \n",
       "19             ardakan           ir  32.310011   54.017474     77.00   \n",
       "20              shache           cn  38.416667   77.240556     70.61   \n",
       "21            show low           us  34.254167 -110.029167     75.20   \n",
       "22  comodoro rivadavia           ar -45.864135  -67.496558     68.00   \n",
       "23          batesville           us  35.769722  -91.640833     78.01   \n",
       "24              cortez           us  37.348889 -108.585278     75.20   \n",
       "\n",
       "    Humidity  Cloudiness  Wind Speed        Date Hotel Name  \n",
       "0         21           1        5.75  1619812311             \n",
       "1         31           2        1.99  1619812313             \n",
       "2         57           0       11.50  1619812338             \n",
       "3         56           0        5.75  1619812348             \n",
       "4         41           0        7.65  1619812349             \n",
       "5         14           1        5.75  1619812355             \n",
       "6         57           0        1.01  1619812367             \n",
       "7         23           1       12.66  1619812372             \n",
       "8         20           1       12.66  1619812374             \n",
       "9         25           1        3.44  1619812376             \n",
       "10        17           4        5.26  1619812384             \n",
       "11        49           0        4.61  1619812389             \n",
       "12        27           1        9.22  1619812394             \n",
       "13        53           0        6.91  1619812400             \n",
       "14        19           1       11.50  1619812403             \n",
       "15        41           1        9.22  1619812406             \n",
       "16        19           1        5.75  1619812407             \n",
       "17        19           0        1.61  1619812410             \n",
       "18        46           0       13.00  1619812412             \n",
       "19        25           0        6.91  1619812382             \n",
       "20        13           0        7.27  1619812433             \n",
       "21        14           1        6.91  1619812433             \n",
       "22        45           0       10.36  1619812437             \n",
       "23        35           1        6.91  1619812438             \n",
       "24        16           1       10.36  1619812440             "
      ],
      "text/html": "<div>\n<style scoped>\n    .dataframe tbody tr th:only-of-type {\n        vertical-align: middle;\n    }\n\n    .dataframe tbody tr th {\n        vertical-align: top;\n    }\n\n    .dataframe thead th {\n        text-align: right;\n    }\n</style>\n<table border=\"1\" class=\"dataframe\">\n  <thead>\n    <tr style=\"text-align: right;\">\n      <th></th>\n      <th>city_name</th>\n      <th>country_code</th>\n      <th>latitude</th>\n      <th>longitude</th>\n      <th>Max Temp</th>\n      <th>Humidity</th>\n      <th>Cloudiness</th>\n      <th>Wind Speed</th>\n      <th>Date</th>\n      <th>Hotel Name</th>\n    </tr>\n  </thead>\n  <tbody>\n    <tr>\n      <th>0</th>\n      <td>silver city</td>\n      <td>us</td>\n      <td>32.770000</td>\n      <td>-108.279722</td>\n      <td>70.00</td>\n      <td>21</td>\n      <td>1</td>\n      <td>5.75</td>\n      <td>1619812311</td>\n      <td></td>\n    </tr>\n    <tr>\n      <th>1</th>\n      <td>kewanee</td>\n      <td>us</td>\n      <td>41.245556</td>\n      <td>-89.924722</td>\n      <td>66.00</td>\n      <td>31</td>\n      <td>2</td>\n      <td>1.99</td>\n      <td>1619812313</td>\n      <td></td>\n    </tr>\n    <tr>\n      <th>2</th>\n      <td>florianopolis</td>\n      <td>br</td>\n      <td>-27.583333</td>\n      <td>-48.566667</td>\n      <td>75.20</td>\n      <td>57</td>\n      <td>0</td>\n      <td>11.50</td>\n      <td>1619812338</td>\n      <td></td>\n    </tr>\n    <tr>\n      <th>3</th>\n      <td>veliki crljeni</td>\n      <td>rs</td>\n      <td>44.467500</td>\n      <td>20.284444</td>\n      <td>68.00</td>\n      <td>56</td>\n      <td>0</td>\n      <td>5.75</td>\n      <td>1619812348</td>\n      <td></td>\n    </tr>\n    <tr>\n      <th>4</th>\n      <td>bella union</td>\n      <td>uy</td>\n      <td>-30.250000</td>\n      <td>-57.583333</td>\n      <td>75.99</td>\n      <td>41</td>\n      <td>0</td>\n      <td>7.65</td>\n      <td>1619812349</td>\n      <td></td>\n    </tr>\n    <tr>\n      <th>5</th>\n      <td>pueblo</td>\n      <td>us</td>\n      <td>38.254444</td>\n      <td>-104.608611</td>\n      <td>79.00</td>\n      <td>14</td>\n      <td>1</td>\n      <td>5.75</td>\n      <td>1619812355</td>\n      <td></td>\n    </tr>\n    <tr>\n      <th>6</th>\n      <td>laguna</td>\n      <td>br</td>\n      <td>-28.483333</td>\n      <td>-48.783333</td>\n      <td>73.00</td>\n      <td>57</td>\n      <td>0</td>\n      <td>1.01</td>\n      <td>1619812367</td>\n      <td></td>\n    </tr>\n    <tr>\n      <th>7</th>\n      <td>somerset</td>\n      <td>us</td>\n      <td>37.091944</td>\n      <td>-84.604167</td>\n      <td>71.60</td>\n      <td>23</td>\n      <td>1</td>\n      <td>12.66</td>\n      <td>1619812372</td>\n      <td></td>\n    </tr>\n    <tr>\n      <th>8</th>\n      <td>marshall</td>\n      <td>us</td>\n      <td>44.446944</td>\n      <td>-95.788056</td>\n      <td>68.00</td>\n      <td>20</td>\n      <td>1</td>\n      <td>12.66</td>\n      <td>1619812374</td>\n      <td></td>\n    </tr>\n    <tr>\n      <th>9</th>\n      <td>rolla</td>\n      <td>us</td>\n      <td>37.951389</td>\n      <td>-91.771111</td>\n      <td>77.00</td>\n      <td>25</td>\n      <td>1</td>\n      <td>3.44</td>\n      <td>1619812376</td>\n      <td></td>\n    </tr>\n    <tr>\n      <th>10</th>\n      <td>karamay</td>\n      <td>cn</td>\n      <td>45.600376</td>\n      <td>84.860142</td>\n      <td>76.23</td>\n      <td>17</td>\n      <td>4</td>\n      <td>5.26</td>\n      <td>1619812384</td>\n      <td></td>\n    </tr>\n    <tr>\n      <th>11</th>\n      <td>ashqelon</td>\n      <td>il</td>\n      <td>31.669256</td>\n      <td>34.571490</td>\n      <td>73.00</td>\n      <td>49</td>\n      <td>0</td>\n      <td>4.61</td>\n      <td>1619812389</td>\n      <td></td>\n    </tr>\n    <tr>\n      <th>12</th>\n      <td>rockingham</td>\n      <td>us</td>\n      <td>34.939167</td>\n      <td>-79.774167</td>\n      <td>79.00</td>\n      <td>27</td>\n      <td>1</td>\n      <td>9.22</td>\n      <td>1619812394</td>\n      <td></td>\n    </tr>\n    <tr>\n      <th>13</th>\n      <td>tarata</td>\n      <td>pe</td>\n      <td>-17.474444</td>\n      <td>-70.032778</td>\n      <td>71.60</td>\n      <td>53</td>\n      <td>0</td>\n      <td>6.91</td>\n      <td>1619812400</td>\n      <td></td>\n    </tr>\n    <tr>\n      <th>14</th>\n      <td>hereford</td>\n      <td>us</td>\n      <td>34.815000</td>\n      <td>-102.397222</td>\n      <td>75.20</td>\n      <td>19</td>\n      <td>1</td>\n      <td>11.50</td>\n      <td>1619812403</td>\n      <td></td>\n    </tr>\n    <tr>\n      <th>15</th>\n      <td>enid</td>\n      <td>us</td>\n      <td>36.395556</td>\n      <td>-97.878056</td>\n      <td>77.00</td>\n      <td>41</td>\n      <td>1</td>\n      <td>9.22</td>\n      <td>1619812406</td>\n      <td></td>\n    </tr>\n    <tr>\n      <th>16</th>\n      <td>liberal</td>\n      <td>us</td>\n      <td>37.043056</td>\n      <td>-100.920556</td>\n      <td>75.20</td>\n      <td>19</td>\n      <td>1</td>\n      <td>5.75</td>\n      <td>1619812407</td>\n      <td></td>\n    </tr>\n    <tr>\n      <th>17</th>\n      <td>korla</td>\n      <td>cn</td>\n      <td>41.759722</td>\n      <td>86.146944</td>\n      <td>71.24</td>\n      <td>19</td>\n      <td>0</td>\n      <td>1.61</td>\n      <td>1619812410</td>\n      <td></td>\n    </tr>\n    <tr>\n      <th>18</th>\n      <td>necochea</td>\n      <td>ar</td>\n      <td>-38.547259</td>\n      <td>-58.736753</td>\n      <td>73.00</td>\n      <td>46</td>\n      <td>0</td>\n      <td>13.00</td>\n      <td>1619812412</td>\n      <td></td>\n    </tr>\n    <tr>\n      <th>19</th>\n      <td>ardakan</td>\n      <td>ir</td>\n      <td>32.310011</td>\n      <td>54.017474</td>\n      <td>77.00</td>\n      <td>25</td>\n      <td>0</td>\n      <td>6.91</td>\n      <td>1619812382</td>\n      <td></td>\n    </tr>\n    <tr>\n      <th>20</th>\n      <td>shache</td>\n      <td>cn</td>\n      <td>38.416667</td>\n      <td>77.240556</td>\n      <td>70.61</td>\n      <td>13</td>\n      <td>0</td>\n      <td>7.27</td>\n      <td>1619812433</td>\n      <td></td>\n    </tr>\n    <tr>\n      <th>21</th>\n      <td>show low</td>\n      <td>us</td>\n      <td>34.254167</td>\n      <td>-110.029167</td>\n      <td>75.20</td>\n      <td>14</td>\n      <td>1</td>\n      <td>6.91</td>\n      <td>1619812433</td>\n      <td></td>\n    </tr>\n    <tr>\n      <th>22</th>\n      <td>comodoro rivadavia</td>\n      <td>ar</td>\n      <td>-45.864135</td>\n      <td>-67.496558</td>\n      <td>68.00</td>\n      <td>45</td>\n      <td>0</td>\n      <td>10.36</td>\n      <td>1619812437</td>\n      <td></td>\n    </tr>\n    <tr>\n      <th>23</th>\n      <td>batesville</td>\n      <td>us</td>\n      <td>35.769722</td>\n      <td>-91.640833</td>\n      <td>78.01</td>\n      <td>35</td>\n      <td>1</td>\n      <td>6.91</td>\n      <td>1619812438</td>\n      <td></td>\n    </tr>\n    <tr>\n      <th>24</th>\n      <td>cortez</td>\n      <td>us</td>\n      <td>37.348889</td>\n      <td>-108.585278</td>\n      <td>75.20</td>\n      <td>16</td>\n      <td>1</td>\n      <td>10.36</td>\n      <td>1619812440</td>\n      <td></td>\n    </tr>\n  </tbody>\n</table>\n</div>"
     },
     "metadata": {},
     "execution_count": 60
    }
   ],
   "source": [
    "hotel_df['Hotel Name'] = ''\n",
    "hotel_df"
   ]
  },
  {
   "cell_type": "code",
   "execution_count": 61,
   "metadata": {},
   "outputs": [
    {
     "output_type": "stream",
     "name": "stdout",
     "text": [
      "Missing field/result... skipping.\n",
      "Missing field/result... skipping.\n"
     ]
    }
   ],
   "source": [
    "# base url\n",
    "base_url = \"https://maps.googleapis.com/maps/api/place/nearbysearch/json\"\n",
    "\n",
    "# loop df / make calls for each row / write response to df\n",
    "for ind in hotel_df.index:\n",
    "\n",
    "    city_lat = str(hotel_df['latitude'][ind])\n",
    "    city_lng = str(hotel_df['longitude'][ind])\n",
    "\n",
    "    target_coordinates = f\"{city_lat}, {city_lng}\"\n",
    "    target_search = \"hotel\"\n",
    "    target_radius = 5000\n",
    "    target_type = \"hotel\"\n",
    "\n",
    "    # set up a parameters dictionary\n",
    "    params = {\n",
    "        \"location\": target_coordinates,\n",
    "        \"keyword\": target_search,\n",
    "        \"radius\": target_radius,\n",
    "        \"type\": target_type,\n",
    "        \"key\": g_key\n",
    "    }\n",
    "\n",
    "    # run a request using our params dictionary\n",
    "    response = requests.get(base_url, params=params)\n",
    "\n",
    "    #make json\n",
    "    return_data = response.json()\n",
    "\n",
    "    try:\n",
    "        # parse and extract first hotel name\n",
    "        my_hotel = return_data[\"results\"][0][\"name\"]\n",
    "\n",
    "        # write hotel name to hotels_df\n",
    "        hotel_df.loc[hotel_df.index[ind], 'Hotel Name'] = my_hotel\n",
    "    \n",
    "    except(KeyError, IndexError):\n",
    "        print(\"Missing field/result... skipping.\")\n",
    "\n"
   ]
  },
  {
   "cell_type": "code",
   "execution_count": 66,
   "metadata": {},
   "outputs": [
    {
     "output_type": "execute_result",
     "data": {
      "text/plain": [
       "                  City Country   latitude   longitude  Max Temp  Humidity  \\\n",
       "0          silver city      us  32.770000 -108.279722     70.00        21   \n",
       "1              kewanee      us  41.245556  -89.924722     66.00        31   \n",
       "2        florianopolis      br -27.583333  -48.566667     75.20        57   \n",
       "3          bella union      uy -30.250000  -57.583333     75.99        41   \n",
       "4               pueblo      us  38.254444 -104.608611     79.00        14   \n",
       "5               laguna      br -28.483333  -48.783333     73.00        57   \n",
       "6             somerset      us  37.091944  -84.604167     71.60        23   \n",
       "7             marshall      us  44.446944  -95.788056     68.00        20   \n",
       "8                rolla      us  37.951389  -91.771111     77.00        25   \n",
       "9              karamay      cn  45.600376   84.860142     76.23        17   \n",
       "10          rockingham      us  34.939167  -79.774167     79.00        27   \n",
       "11              tarata      pe -17.474444  -70.032778     71.60        53   \n",
       "12            hereford      us  34.815000 -102.397222     75.20        19   \n",
       "13                enid      us  36.395556  -97.878056     77.00        41   \n",
       "14             liberal      us  37.043056 -100.920556     75.20        19   \n",
       "15               korla      cn  41.759722   86.146944     71.24        19   \n",
       "16            necochea      ar -38.547259  -58.736753     73.00        46   \n",
       "17             ardakan      ir  32.310011   54.017474     77.00        25   \n",
       "18              shache      cn  38.416667   77.240556     70.61        13   \n",
       "19            show low      us  34.254167 -110.029167     75.20        14   \n",
       "20  comodoro rivadavia      ar -45.864135  -67.496558     68.00        45   \n",
       "21          batesville      us  35.769722  -91.640833     78.01        35   \n",
       "22              cortez      us  37.348889 -108.585278     75.20        16   \n",
       "\n",
       "    Cloudiness  Wind Speed        Date  \\\n",
       "0            1        5.75  1619812311   \n",
       "1            2        1.99  1619812313   \n",
       "2            0       11.50  1619812338   \n",
       "3            0        7.65  1619812349   \n",
       "4            1        5.75  1619812355   \n",
       "5            0        1.01  1619812367   \n",
       "6            1       12.66  1619812372   \n",
       "7            1       12.66  1619812374   \n",
       "8            1        3.44  1619812376   \n",
       "9            4        5.26  1619812384   \n",
       "10           1        9.22  1619812394   \n",
       "11           0        6.91  1619812400   \n",
       "12           1       11.50  1619812403   \n",
       "13           1        9.22  1619812406   \n",
       "14           1        5.75  1619812407   \n",
       "15           0        1.61  1619812410   \n",
       "16           0       13.00  1619812412   \n",
       "17           0        6.91  1619812382   \n",
       "18           0        7.27  1619812433   \n",
       "19           1        6.91  1619812433   \n",
       "20           0       10.36  1619812437   \n",
       "21           1        6.91  1619812438   \n",
       "22           1       10.36  1619812440   \n",
       "\n",
       "                                           Hotel Name  \n",
       "0                     Holiday Inn Express Silver City  \n",
       "1                        AmericInn by Wyndham Kewanee  \n",
       "2                       WK DESIGN HOTEL FLORIANOPOLIS  \n",
       "3             Manantiales Hoteles y Entretenimientos.  \n",
       "4               Courtyard by Marriott Pueblo Downtown  \n",
       "5                                Laguna Tourist Hotel  \n",
       "6                      Courtyard by Marriott Somerset  \n",
       "7                       AmericInn by Wyndham Marshall  \n",
       "8   Holiday Inn Express & Suites Rolla - Univ of M...  \n",
       "9                            Zhengtian Landmark Hotel  \n",
       "10      Fairfield Inn & Suites by Marriott Rockingham  \n",
       "11                        Hospedaje Real Plaza Tarata  \n",
       "12                       Holiday Inn Express Hereford  \n",
       "13          Holiday Inn Express & Suites Enid-Hwy 412  \n",
       "14                       Hampton Inn & Suites Liberal  \n",
       "15                             The Garden Hotel Korla  \n",
       "16                  Hotel Ñikén Spa & Business Center  \n",
       "17                                Kheshtomah Ecolodge  \n",
       "18                                     Xinsheng Hotel  \n",
       "19              Hampton Inn & Suites Show Low-Pinetop  \n",
       "20                              Lucania Palazzo Hotel  \n",
       "21  Holiday Inn Express & Suites Batesville, an IH...  \n",
       "22              Holiday Inn Express Mesa Verde-Cortez  "
      ],
      "text/html": "<div>\n<style scoped>\n    .dataframe tbody tr th:only-of-type {\n        vertical-align: middle;\n    }\n\n    .dataframe tbody tr th {\n        vertical-align: top;\n    }\n\n    .dataframe thead th {\n        text-align: right;\n    }\n</style>\n<table border=\"1\" class=\"dataframe\">\n  <thead>\n    <tr style=\"text-align: right;\">\n      <th></th>\n      <th>City</th>\n      <th>Country</th>\n      <th>latitude</th>\n      <th>longitude</th>\n      <th>Max Temp</th>\n      <th>Humidity</th>\n      <th>Cloudiness</th>\n      <th>Wind Speed</th>\n      <th>Date</th>\n      <th>Hotel Name</th>\n    </tr>\n  </thead>\n  <tbody>\n    <tr>\n      <th>0</th>\n      <td>silver city</td>\n      <td>us</td>\n      <td>32.770000</td>\n      <td>-108.279722</td>\n      <td>70.00</td>\n      <td>21</td>\n      <td>1</td>\n      <td>5.75</td>\n      <td>1619812311</td>\n      <td>Holiday Inn Express Silver City</td>\n    </tr>\n    <tr>\n      <th>1</th>\n      <td>kewanee</td>\n      <td>us</td>\n      <td>41.245556</td>\n      <td>-89.924722</td>\n      <td>66.00</td>\n      <td>31</td>\n      <td>2</td>\n      <td>1.99</td>\n      <td>1619812313</td>\n      <td>AmericInn by Wyndham Kewanee</td>\n    </tr>\n    <tr>\n      <th>2</th>\n      <td>florianopolis</td>\n      <td>br</td>\n      <td>-27.583333</td>\n      <td>-48.566667</td>\n      <td>75.20</td>\n      <td>57</td>\n      <td>0</td>\n      <td>11.50</td>\n      <td>1619812338</td>\n      <td>WK DESIGN HOTEL FLORIANOPOLIS</td>\n    </tr>\n    <tr>\n      <th>3</th>\n      <td>bella union</td>\n      <td>uy</td>\n      <td>-30.250000</td>\n      <td>-57.583333</td>\n      <td>75.99</td>\n      <td>41</td>\n      <td>0</td>\n      <td>7.65</td>\n      <td>1619812349</td>\n      <td>Manantiales Hoteles y Entretenimientos.</td>\n    </tr>\n    <tr>\n      <th>4</th>\n      <td>pueblo</td>\n      <td>us</td>\n      <td>38.254444</td>\n      <td>-104.608611</td>\n      <td>79.00</td>\n      <td>14</td>\n      <td>1</td>\n      <td>5.75</td>\n      <td>1619812355</td>\n      <td>Courtyard by Marriott Pueblo Downtown</td>\n    </tr>\n    <tr>\n      <th>5</th>\n      <td>laguna</td>\n      <td>br</td>\n      <td>-28.483333</td>\n      <td>-48.783333</td>\n      <td>73.00</td>\n      <td>57</td>\n      <td>0</td>\n      <td>1.01</td>\n      <td>1619812367</td>\n      <td>Laguna Tourist Hotel</td>\n    </tr>\n    <tr>\n      <th>6</th>\n      <td>somerset</td>\n      <td>us</td>\n      <td>37.091944</td>\n      <td>-84.604167</td>\n      <td>71.60</td>\n      <td>23</td>\n      <td>1</td>\n      <td>12.66</td>\n      <td>1619812372</td>\n      <td>Courtyard by Marriott Somerset</td>\n    </tr>\n    <tr>\n      <th>7</th>\n      <td>marshall</td>\n      <td>us</td>\n      <td>44.446944</td>\n      <td>-95.788056</td>\n      <td>68.00</td>\n      <td>20</td>\n      <td>1</td>\n      <td>12.66</td>\n      <td>1619812374</td>\n      <td>AmericInn by Wyndham Marshall</td>\n    </tr>\n    <tr>\n      <th>8</th>\n      <td>rolla</td>\n      <td>us</td>\n      <td>37.951389</td>\n      <td>-91.771111</td>\n      <td>77.00</td>\n      <td>25</td>\n      <td>1</td>\n      <td>3.44</td>\n      <td>1619812376</td>\n      <td>Holiday Inn Express &amp; Suites Rolla - Univ of M...</td>\n    </tr>\n    <tr>\n      <th>9</th>\n      <td>karamay</td>\n      <td>cn</td>\n      <td>45.600376</td>\n      <td>84.860142</td>\n      <td>76.23</td>\n      <td>17</td>\n      <td>4</td>\n      <td>5.26</td>\n      <td>1619812384</td>\n      <td>Zhengtian Landmark Hotel</td>\n    </tr>\n    <tr>\n      <th>10</th>\n      <td>rockingham</td>\n      <td>us</td>\n      <td>34.939167</td>\n      <td>-79.774167</td>\n      <td>79.00</td>\n      <td>27</td>\n      <td>1</td>\n      <td>9.22</td>\n      <td>1619812394</td>\n      <td>Fairfield Inn &amp; Suites by Marriott Rockingham</td>\n    </tr>\n    <tr>\n      <th>11</th>\n      <td>tarata</td>\n      <td>pe</td>\n      <td>-17.474444</td>\n      <td>-70.032778</td>\n      <td>71.60</td>\n      <td>53</td>\n      <td>0</td>\n      <td>6.91</td>\n      <td>1619812400</td>\n      <td>Hospedaje Real Plaza Tarata</td>\n    </tr>\n    <tr>\n      <th>12</th>\n      <td>hereford</td>\n      <td>us</td>\n      <td>34.815000</td>\n      <td>-102.397222</td>\n      <td>75.20</td>\n      <td>19</td>\n      <td>1</td>\n      <td>11.50</td>\n      <td>1619812403</td>\n      <td>Holiday Inn Express Hereford</td>\n    </tr>\n    <tr>\n      <th>13</th>\n      <td>enid</td>\n      <td>us</td>\n      <td>36.395556</td>\n      <td>-97.878056</td>\n      <td>77.00</td>\n      <td>41</td>\n      <td>1</td>\n      <td>9.22</td>\n      <td>1619812406</td>\n      <td>Holiday Inn Express &amp; Suites Enid-Hwy 412</td>\n    </tr>\n    <tr>\n      <th>14</th>\n      <td>liberal</td>\n      <td>us</td>\n      <td>37.043056</td>\n      <td>-100.920556</td>\n      <td>75.20</td>\n      <td>19</td>\n      <td>1</td>\n      <td>5.75</td>\n      <td>1619812407</td>\n      <td>Hampton Inn &amp; Suites Liberal</td>\n    </tr>\n    <tr>\n      <th>15</th>\n      <td>korla</td>\n      <td>cn</td>\n      <td>41.759722</td>\n      <td>86.146944</td>\n      <td>71.24</td>\n      <td>19</td>\n      <td>0</td>\n      <td>1.61</td>\n      <td>1619812410</td>\n      <td>The Garden Hotel Korla</td>\n    </tr>\n    <tr>\n      <th>16</th>\n      <td>necochea</td>\n      <td>ar</td>\n      <td>-38.547259</td>\n      <td>-58.736753</td>\n      <td>73.00</td>\n      <td>46</td>\n      <td>0</td>\n      <td>13.00</td>\n      <td>1619812412</td>\n      <td>Hotel Ñikén Spa &amp; Business Center</td>\n    </tr>\n    <tr>\n      <th>17</th>\n      <td>ardakan</td>\n      <td>ir</td>\n      <td>32.310011</td>\n      <td>54.017474</td>\n      <td>77.00</td>\n      <td>25</td>\n      <td>0</td>\n      <td>6.91</td>\n      <td>1619812382</td>\n      <td>Kheshtomah Ecolodge</td>\n    </tr>\n    <tr>\n      <th>18</th>\n      <td>shache</td>\n      <td>cn</td>\n      <td>38.416667</td>\n      <td>77.240556</td>\n      <td>70.61</td>\n      <td>13</td>\n      <td>0</td>\n      <td>7.27</td>\n      <td>1619812433</td>\n      <td>Xinsheng Hotel</td>\n    </tr>\n    <tr>\n      <th>19</th>\n      <td>show low</td>\n      <td>us</td>\n      <td>34.254167</td>\n      <td>-110.029167</td>\n      <td>75.20</td>\n      <td>14</td>\n      <td>1</td>\n      <td>6.91</td>\n      <td>1619812433</td>\n      <td>Hampton Inn &amp; Suites Show Low-Pinetop</td>\n    </tr>\n    <tr>\n      <th>20</th>\n      <td>comodoro rivadavia</td>\n      <td>ar</td>\n      <td>-45.864135</td>\n      <td>-67.496558</td>\n      <td>68.00</td>\n      <td>45</td>\n      <td>0</td>\n      <td>10.36</td>\n      <td>1619812437</td>\n      <td>Lucania Palazzo Hotel</td>\n    </tr>\n    <tr>\n      <th>21</th>\n      <td>batesville</td>\n      <td>us</td>\n      <td>35.769722</td>\n      <td>-91.640833</td>\n      <td>78.01</td>\n      <td>35</td>\n      <td>1</td>\n      <td>6.91</td>\n      <td>1619812438</td>\n      <td>Holiday Inn Express &amp; Suites Batesville, an IH...</td>\n    </tr>\n    <tr>\n      <th>22</th>\n      <td>cortez</td>\n      <td>us</td>\n      <td>37.348889</td>\n      <td>-108.585278</td>\n      <td>75.20</td>\n      <td>16</td>\n      <td>1</td>\n      <td>10.36</td>\n      <td>1619812440</td>\n      <td>Holiday Inn Express Mesa Verde-Cortez</td>\n    </tr>\n  </tbody>\n</table>\n</div>"
     },
     "metadata": {},
     "execution_count": 66
    }
   ],
   "source": [
    "#rename columns to match the template\n",
    "hotel_df.rename(columns={'city_name': 'City', 'country_code': 'Country'}, inplace=True)\n",
    "\n",
    "#drop cities that don't have hotels, then reindex for plotting\n",
    "hotel_df['Hotel Name'].replace('', np.nan, inplace=True)\n",
    "hotel_df.dropna(subset=['Hotel Name'], inplace=True)\n",
    "hotel_df = hotel_df.reset_index(drop=True)\n",
    "hotel_df"
   ]
  },
  {
   "cell_type": "code",
   "execution_count": 67,
   "metadata": {},
   "outputs": [],
   "source": [
    "# NOTE: Do not change any of the code in this cell\n",
    "\n",
    "# Using the template add the hotel marks to the heatmap\n",
    "info_box_template = \"\"\"\n",
    "<dl>\n",
    "<dt>Name</dt><dd>{Hotel Name}</dd>\n",
    "<dt>City</dt><dd>{City}</dd>\n",
    "<dt>Country</dt><dd>{Country}</dd>\n",
    "</dl>\n",
    "\"\"\"\n",
    "# Store the DataFrame Row\n",
    "# NOTE: be sure to update with your DataFrame name\n",
    "hotel_info = [info_box_template.format(**row) for index, row in hotel_df.iterrows()]\n",
    "locations = hotel_df[[\"latitude\", \"longitude\"]]"
   ]
  },
  {
   "cell_type": "code",
   "execution_count": 68,
   "metadata": {},
   "outputs": [
    {
     "output_type": "display_data",
     "data": {
      "text/plain": "Figure(layout=FigureLayout(height='420px'))",
      "application/vnd.jupyter.widget-view+json": {
       "version_major": 2,
       "version_minor": 0,
       "model_id": "74f3d41a71c04a799f73eca9afd0156a"
      }
     },
     "metadata": {}
    }
   ],
   "source": [
    "# Add marker layer ontop of heat map\n",
    "\n",
    "marker_layer = gmaps.marker_layer(locations, info_box_content=hotel_info)\n",
    "\n",
    "# Display figure\n",
    "\n",
    "fig.add_layer(marker_layer)\n",
    "fig\n"
   ]
  },
  {
   "cell_type": "code",
   "execution_count": null,
   "metadata": {},
   "outputs": [],
   "source": []
  }
 ],
 "metadata": {
  "kernelspec": {
   "name": "python385jvsc74a57bd0a26b834f5c8e365edd4c3c21afaa4e48e9cc650a545e5c40df6b1d0d591b57ec",
   "display_name": "Python 3.8.5 64-bit ('base': conda)"
  },
  "language_info": {
   "codemirror_mode": {
    "name": "ipython",
    "version": 3
   },
   "file_extension": ".py",
   "mimetype": "text/x-python",
   "name": "python",
   "nbconvert_exporter": "python",
   "pygments_lexer": "ipython3",
   "version": "3.8.5"
  },
  "latex_envs": {
   "LaTeX_envs_menu_present": true,
   "autoclose": false,
   "autocomplete": true,
   "bibliofile": "biblio.bib",
   "cite_by": "apalike",
   "current_citInitial": 1,
   "eqLabelWithNumbers": true,
   "eqNumInitial": 1,
   "hotkeys": {
    "equation": "Ctrl-E",
    "itemize": "Ctrl-I"
   },
   "labels_anchors": false,
   "latex_user_defs": false,
   "report_style_numbering": false,
   "user_envs_cfg": false
  },
  "metadata": {
   "interpreter": {
    "hash": "a26b834f5c8e365edd4c3c21afaa4e48e9cc650a545e5c40df6b1d0d591b57ec"
   }
  }
 },
 "nbformat": 4,
 "nbformat_minor": 4
}